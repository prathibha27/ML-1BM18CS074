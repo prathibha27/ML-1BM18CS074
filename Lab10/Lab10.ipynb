{
  "nbformat": 4,
  "nbformat_minor": 0,
  "metadata": {
    "colab": {
      "name": "Lab10.ipynb",
      "provenance": [],
      "collapsed_sections": []
    },
    "kernelspec": {
      "display_name": "Python 3",
      "name": "python3"
    },
    "language_info": {
      "name": "python"
    }
  },
  "cells": [
    {
      "cell_type": "code",
      "metadata": {
        "id": "mnNiWWRS0tW7"
      },
      "source": [
        "from numpy import *\n",
        "import operator\n",
        "from os import listdir\n",
        "import matplotlib\n",
        "import matplotlib.pyplot as plt\n",
        "import pandas as pd\n",
        "from numpy.linalg import *"
      ],
      "execution_count": 17,
      "outputs": []
    },
    {
      "cell_type": "code",
      "metadata": {
        "id": "5EhUsRbv06WN"
      },
      "source": [
        "def kernel(point, xmat, k):\n",
        "    m, n = shape(xmat)\n",
        "    weights = mat(eye((m)))\n",
        "    for j in range(m):\n",
        "        diff = point - X[j]\n",
        "        weights[j, j] = exp(diff * diff.T / (-2.0 * k ** 2))\n",
        "    return weights"
      ],
      "execution_count": 18,
      "outputs": []
    },
    {
      "cell_type": "code",
      "metadata": {
        "id": "xldBxmRt089F"
      },
      "source": [
        "def localWeight(point, xmat, ymat, k):\n",
        "    wei = kernel(point, xmat, k)\n",
        "    W = (X.T * (wei * X)).I * (X.T * (wei * ymat.T))\n",
        "    return W"
      ],
      "execution_count": 19,
      "outputs": []
    },
    {
      "cell_type": "code",
      "metadata": {
        "id": "hvB1r9QQ0_xa"
      },
      "source": [
        "def localWeightRegression(xmat, ymat, k):\n",
        "    m, n = shape(xmat)\n",
        "    ypred = zeros(m)\n",
        "    for i in range(m):\n",
        "        ypred[i] = xmat[i] * localWeight(xmat[i], xmat, ymat, k)\n",
        "    return ypred"
      ],
      "execution_count": 20,
      "outputs": []
    },
    {
      "cell_type": "code",
      "metadata": {
        "colab": {
          "base_uri": "https://localhost:8080/",
          "height": 279
        },
        "id": "Ryf62kb41C0U",
        "outputId": "156444c6-15af-4451-ed21-f66c110c3a68"
      },
      "source": [
        "data = pd.read_csv(\"tips.csv\")\n",
        "bill = array(data.total_bill)\n",
        "tip = array(data.tip)\n",
        "mbill = mat(bill)\n",
        "mtip = mat(tip)\n",
        "m = shape(mbill)[1]\n",
        "one = mat(ones(m))\n",
        "X = hstack((one.T, mbill.T))\n",
        "# set k here\n",
        "ypred = localWeightRegression(X, mtip, 10)\n",
        "SortIndex = X[:, 1].argsort(0)\n",
        "xsort = X[SortIndex][:, 0]\n",
        "fig = plt.figure()\n",
        "ax = fig.add_subplot(1, 1, 1)\n",
        "ax.scatter(bill, tip, color=\"green\")\n",
        "ax.plot(xsort[:, 1], ypred[SortIndex], color=\"red\", linewidth=5)\n",
        "plt.xlabel(\"Total bill\")\n",
        "plt.ylabel(\"Tip\")\n",
        "plt.show()"
      ],
      "execution_count": 21,
      "outputs": [
        {
          "output_type": "display_data",
          "data": {
            "image/png": "[encoded data removed]",
            "text/plain": [
              "<Figure size 432x288 with 1 Axes>"
            ]
          },
          "metadata": {
            "tags": [],
            "needs_background": "light"
          }
        }
      ]
    }
  ]
}