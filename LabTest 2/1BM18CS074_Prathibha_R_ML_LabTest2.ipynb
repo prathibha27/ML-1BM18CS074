{
  "nbformat": 4,
  "nbformat_minor": 0,
  "metadata": {
    "colab": {
      "name": "1BM18CS074_Prathibha R_ML_LabTest2.ipynb",
      "provenance": [],
      "collapsed_sections": []
    },
    "kernelspec": {
      "display_name": "Python 3",
      "name": "python3"
    },
    "language_info": {
      "name": "python"
    }
  },
  "cells": [
    {
      "cell_type": "code",
      "metadata": {
        "id": "mnNiWWRS0tW7"
      },
      "source": [
        "from numpy import *\n",
        "import operator\n",
        "from os import listdir\n",
        "import matplotlib\n",
        "import matplotlib.pyplot as plt\n",
        "import pandas as pd\n",
        "from numpy.linalg import *\n",
        "import numpy as np\n"
      ],
      "execution_count": 34,
      "outputs": []
    },
    {
      "cell_type": "code",
      "metadata": {
        "id": "5EhUsRbv06WN"
      },
      "source": [
        "def kernel(point, xmat, k):\n",
        "    m, n = shape(xmat)\n",
        "    weights = mat(eye((m)))\n",
        "    for j in range(m):\n",
        "        diff = point - X[j]\n",
        "        weights[j, j] = exp(diff * diff.T / (-2.0 * k ** 2))\n",
        "    return weights"
      ],
      "execution_count": null,
      "outputs": []
    },
    {
      "cell_type": "code",
      "metadata": {
        "id": "xldBxmRt089F"
      },
      "source": [
        "def localWeight(point, xmat, ymat, k):\n",
        "    wei = kernel(point, xmat, k)\n",
        "    W = (X.T * (wei * X)).I * (X.T * (wei * ymat.T))\n",
        "    return W"
      ],
      "execution_count": null,
      "outputs": []
    },
    {
      "cell_type": "code",
      "metadata": {
        "id": "hvB1r9QQ0_xa"
      },
      "source": [
        "def localWeightRegression(xmat, ymat, k):\n",
        "    m, n = shape(xmat)\n",
        "    ypred = zeros(m)\n",
        "    for i in range(m):\n",
        "        ypred[i] = xmat[i] * localWeight(xmat[i], xmat, ymat, k)\n",
        "    return ypred"
      ],
      "execution_count": null,
      "outputs": []
    },
    {
      "cell_type": "code",
      "metadata": {
        "id": "O39O_Me98np0"
      },
      "source": [
        "from google.colab import drive\n",
        "drive.mount('/content/drive')"
      ],
      "execution_count": null,
      "outputs": []
    },
    {
      "cell_type": "code",
      "metadata": {
        "colab": {
          "base_uri": "https://localhost:8080/",
          "height": 279
        },
        "id": "Ryf62kb41C0U",
        "outputId": "e71cd6df-b86e-4a6c-80fa-54e5797bc1fe"
      },
      "source": [
        "data = pd.read_csv(\"/content/drive/MyDrive/dataset.csv\")\n",
        "x=array(data.X)\n",
        "y=array(data.Y)\n",
        "mx=mat(x)\n",
        "my=mat(y)\n",
        "m=shape(mx)[1]\n",
        "one = mat(ones(m))\n",
        "X=hstack((one.T,mx.T))\n",
        "\n",
        "# set k here\n",
        "ypred = localWeightRegression(X, my, 10)\n",
        "SortIndex = X[:, 1].argsort(0)\n",
        "xsort = X[SortIndex][:, 0]\n",
        "fig = plt.figure()\n",
        "ax = fig.add_subplot(1, 1, 1)\n",
        "ax.scatter(x,y, color=\"green\")\n",
        "ax.plot(xsort[:, 1], ypred[SortIndex], color=\"red\", linewidth=5)\n",
        "plt.xlabel(\"X\")\n",
        "plt.ylabel(\"Y\")\n",
        "plt.show()\n"
      ],
      "execution_count": 21,
      "outputs": [
        {
          "output_type": "display_data",
          "data": {
            "image/png": "[encoded data removed]",
            "text/plain": [
              "<Figure size 432x288 with 1 Axes>"
            ]
          },
          "metadata": {
            "tags": [],
            "needs_background": "light"
          }
        }
      ]
    },
    {
      "cell_type": "code",
      "metadata": {
        "id": "WmGZSk33JKzP",
        "outputId": "3644146e-d100-46dc-b62c-23637ca5de3c",
        "colab": {
          "base_uri": "https://localhost:8080/"
        }
      },
      "source": [
        "print(\"Predicted Value of Y for X=55 \",ypred)"
      ],
      "execution_count": 38,
      "outputs": [
        {
          "output_type": "stream",
          "text": [
            "Predicted Value of Y for X=55  [83.59269122 69.43657263 73.16306393 83.25514325 84.11634718 83.76250129]\n"
          ],
          "name": "stdout"
        }
      ]
    }
  ]
}