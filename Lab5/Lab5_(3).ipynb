{
  "nbformat": 4,
  "nbformat_minor": 0,
  "metadata": {
    "colab": {
      "name": "Lab5-(3).ipynb",
      "provenance": []
    },
    "kernelspec": {
      "name": "python3",
      "display_name": "Python 3"
    },
    "language_info": {
      "name": "python"
    }
  },
  "cells": [
    {
      "cell_type": "code",
      "metadata": {
        "colab": {
          "base_uri": "https://localhost:8080/"
        },
        "id": "2XOBgUKWdS9S",
        "outputId": "d15172b0-5eef-4103-c974-5555f3b88f6d"
      },
      "source": [
        "!pip install pgmpy"
      ],
      "execution_count": 3,
      "outputs": [
        {
          "output_type": "stream",
          "text": [
            "Collecting pgmpy\n",
            "\u001b[?25l  Downloading https://files.pythonhosted.org/packages/a3/0e/d9fadbfaa35e010c04d43acd3ae9fbefec98897dd7d61a6b7eb5a8b34072/pgmpy-0.1.14-py3-none-any.whl (331kB)\n",
            "\r\u001b[K     |█                               | 10kB 9.8MB/s eta 0:00:01\r\u001b[K     |██                              | 20kB 12.8MB/s eta 0:00:01\r\u001b[K     |███                             | 30kB 12.1MB/s eta 0:00:01\r\u001b[K     |████                            | 40kB 9.6MB/s eta 0:00:01\r\u001b[K     |█████                           | 51kB 8.0MB/s eta 0:00:01\r\u001b[K     |██████                          | 61kB 7.1MB/s eta 0:00:01\r\u001b[K     |███████                         | 71kB 7.9MB/s eta 0:00:01\r\u001b[K     |████████                        | 81kB 8.0MB/s eta 0:00:01\r\u001b[K     |█████████                       | 92kB 7.9MB/s eta 0:00:01\r\u001b[K     |█████████▉                      | 102kB 8.2MB/s eta 0:00:01\r\u001b[K     |██████████▉                     | 112kB 8.2MB/s eta 0:00:01\r\u001b[K     |███████████▉                    | 122kB 8.2MB/s eta 0:00:01\r\u001b[K     |████████████▉                   | 133kB 8.2MB/s eta 0:00:01\r\u001b[K     |█████████████▉                  | 143kB 8.2MB/s eta 0:00:01\r\u001b[K     |██████████████▉                 | 153kB 8.2MB/s eta 0:00:01\r\u001b[K     |███████████████▉                | 163kB 8.2MB/s eta 0:00:01\r\u001b[K     |████████████████▉               | 174kB 8.2MB/s eta 0:00:01\r\u001b[K     |█████████████████▉              | 184kB 8.2MB/s eta 0:00:01\r\u001b[K     |██████████████████▉             | 194kB 8.2MB/s eta 0:00:01\r\u001b[K     |███████████████████▊            | 204kB 8.2MB/s eta 0:00:01\r\u001b[K     |████████████████████▊           | 215kB 8.2MB/s eta 0:00:01\r\u001b[K     |█████████████████████▊          | 225kB 8.2MB/s eta 0:00:01\r\u001b[K     |██████████████████████▊         | 235kB 8.2MB/s eta 0:00:01\r\u001b[K     |███████████████████████▊        | 245kB 8.2MB/s eta 0:00:01\r\u001b[K     |████████████████████████▊       | 256kB 8.2MB/s eta 0:00:01\r\u001b[K     |█████████████████████████▊      | 266kB 8.2MB/s eta 0:00:01\r\u001b[K     |██████████████████████████▊     | 276kB 8.2MB/s eta 0:00:01\r\u001b[K     |███████████████████████████▊    | 286kB 8.2MB/s eta 0:00:01\r\u001b[K     |████████████████████████████▊   | 296kB 8.2MB/s eta 0:00:01\r\u001b[K     |█████████████████████████████▋  | 307kB 8.2MB/s eta 0:00:01\r\u001b[K     |██████████████████████████████▋ | 317kB 8.2MB/s eta 0:00:01\r\u001b[K     |███████████████████████████████▋| 327kB 8.2MB/s eta 0:00:01\r\u001b[K     |████████████████████████████████| 337kB 8.2MB/s \n",
            "\u001b[?25hRequirement already satisfied: pyparsing in /usr/local/lib/python3.7/dist-packages (from pgmpy) (2.4.7)\n",
            "Requirement already satisfied: scipy in /usr/local/lib/python3.7/dist-packages (from pgmpy) (1.4.1)\n",
            "Requirement already satisfied: torch in /usr/local/lib/python3.7/dist-packages (from pgmpy) (1.8.1+cu101)\n",
            "Requirement already satisfied: networkx in /usr/local/lib/python3.7/dist-packages (from pgmpy) (2.5.1)\n",
            "Requirement already satisfied: tqdm in /usr/local/lib/python3.7/dist-packages (from pgmpy) (4.41.1)\n",
            "Requirement already satisfied: scikit-learn in /usr/local/lib/python3.7/dist-packages (from pgmpy) (0.22.2.post1)\n",
            "Requirement already satisfied: statsmodels in /usr/local/lib/python3.7/dist-packages (from pgmpy) (0.10.2)\n",
            "Requirement already satisfied: pandas in /usr/local/lib/python3.7/dist-packages (from pgmpy) (1.1.5)\n",
            "Requirement already satisfied: numpy in /usr/local/lib/python3.7/dist-packages (from pgmpy) (1.19.5)\n",
            "Requirement already satisfied: joblib in /usr/local/lib/python3.7/dist-packages (from pgmpy) (1.0.1)\n",
            "Requirement already satisfied: typing-extensions in /usr/local/lib/python3.7/dist-packages (from torch->pgmpy) (3.7.4.3)\n",
            "Requirement already satisfied: decorator<5,>=4.3 in /usr/local/lib/python3.7/dist-packages (from networkx->pgmpy) (4.4.2)\n",
            "Requirement already satisfied: patsy>=0.4.0 in /usr/local/lib/python3.7/dist-packages (from statsmodels->pgmpy) (0.5.1)\n",
            "Requirement already satisfied: python-dateutil>=2.7.3 in /usr/local/lib/python3.7/dist-packages (from pandas->pgmpy) (2.8.1)\n",
            "Requirement already satisfied: pytz>=2017.2 in /usr/local/lib/python3.7/dist-packages (from pandas->pgmpy) (2018.9)\n",
            "Requirement already satisfied: six in /usr/local/lib/python3.7/dist-packages (from patsy>=0.4.0->statsmodels->pgmpy) (1.15.0)\n",
            "Installing collected packages: pgmpy\n",
            "Successfully installed pgmpy-0.1.14\n"
          ],
          "name": "stdout"
        }
      ]
    },
    {
      "cell_type": "code",
      "metadata": {
        "id": "LWo8ySk-cdLr"
      },
      "source": [
        "from pgmpy.models import BayesianModel\n",
        "from pgmpy.factors.discrete import TabularCPD\n",
        "from pgmpy.inference import VariableElimination"
      ],
      "execution_count": 4,
      "outputs": []
    },
    {
      "cell_type": "code",
      "metadata": {
        "colab": {
          "base_uri": "https://localhost:8080/"
        },
        "id": "ZlcKSdcpcgDr",
        "outputId": "bff79848-db2a-469f-c310-4a538eda576d"
      },
      "source": [
        "cancer_model=BayesianModel([('Pollution','Cancer'),('Smoker','Cancer'),('Cancer','Xray'),('Cancer','Dyspnoea')])\n",
        "print('Bayesian network models are :')\n",
        "print('\\t',cancer_model.nodes())\n",
        "print('Bayesian edges are:')\n",
        "print('\\t',cancer_model.edges())"
      ],
      "execution_count": 5,
      "outputs": [
        {
          "output_type": "stream",
          "text": [
            "Bayesian network models are :\n",
            "\t ['Pollution', 'Cancer', 'Smoker', 'Xray', 'Dyspnoea']\n",
            "Bayesian edges are:\n",
            "\t [('Pollution', 'Cancer'), ('Cancer', 'Xray'), ('Cancer', 'Dyspnoea'), ('Smoker', 'Cancer')]\n"
          ],
          "name": "stdout"
        }
      ]
    },
    {
      "cell_type": "code",
      "metadata": {
        "id": "f_747V9Cciax"
      },
      "source": [
        "cpd_poll = TabularCPD(variable='Pollution', variable_card=2,\n",
        "                      values=[[0.9], [0.1]])\n",
        "cpd_smoke = TabularCPD(variable='Smoker', variable_card=2,\n",
        "                       values=[[0.3], [0.7]])\n",
        "cpd_cancer = TabularCPD(variable='Cancer', variable_card=2,\n",
        "                        values=[[0.03, 0.05, 0.001, 0.02],\n",
        "                                [0.97, 0.95, 0.999, 0.98]],\n",
        "                        evidence=['Smoker', 'Pollution'],\n",
        "                        evidence_card=[2, 2])\n",
        "cpd_xray = TabularCPD(variable='Xray', variable_card=2,\n",
        "                      values=[[0.9, 0.2], [0.1, 0.8]],\n",
        "                      evidence=['Cancer'], evidence_card=[2])\n",
        "cpd_dysp = TabularCPD(variable='Dyspnoea', variable_card=2,\n",
        "                      values=[[0.65, 0.3], [0.35, 0.7]],\n",
        "                      evidence=['Cancer'], evidence_card=[2])"
      ],
      "execution_count": 6,
      "outputs": []
    },
    {
      "cell_type": "code",
      "metadata": {
        "colab": {
          "base_uri": "https://localhost:8080/"
        },
        "id": "ABMVr6y6clIR",
        "outputId": "af58d98a-70f3-4f3c-f5cf-6c7d0d8fc187"
      },
      "source": [
        "# Associating the parameters with the model structure.\n",
        "cancer_model.add_cpds(cpd_poll, cpd_smoke, cpd_cancer, cpd_xray, cpd_dysp)\n",
        "\n",
        "# Checking if the cpds are valid for the model.\n",
        "cancer_model.check_model()"
      ],
      "execution_count": 7,
      "outputs": [
        {
          "output_type": "execute_result",
          "data": {
            "text/plain": [
              "True"
            ]
          },
          "metadata": {
            "tags": []
          },
          "execution_count": 7
        }
      ]
    },
    {
      "cell_type": "code",
      "metadata": {
        "id": "vl8XazWXcnzc"
      },
      "source": [
        "cancer_infer=VariableElimination(cancer_model)"
      ],
      "execution_count": 8,
      "outputs": []
    },
    {
      "cell_type": "code",
      "metadata": {
        "colab": {
          "base_uri": "https://localhost:8080/"
        },
        "id": "LtVJoaPRcqjy",
        "outputId": "ead7bf00-cd0b-4e17-de0a-b27170ad5254"
      },
      "source": [
        "print('All local independecies are as follows')\n",
        "cancer_model.get_independencies()\n",
        "print('Displaying CPDs')\n",
        "print(cancer_model.get_cpds('Pollution'))\n",
        "print(cancer_model.get_cpds('Smoker'))\n",
        "print(cancer_model.get_cpds('Cancer'))\n",
        "print(cancer_model.get_cpds('Xray'))\n",
        "print(cancer_model.get_cpds('Dyspnoea'))"
      ],
      "execution_count": 9,
      "outputs": [
        {
          "output_type": "stream",
          "text": [
            "All local independecies are as follows\n",
            "Displaying CPDs\n",
            "+--------------+-----+\n",
            "| Pollution(0) | 0.9 |\n",
            "+--------------+-----+\n",
            "| Pollution(1) | 0.1 |\n",
            "+--------------+-----+\n",
            "+-----------+-----+\n",
            "| Smoker(0) | 0.3 |\n",
            "+-----------+-----+\n",
            "| Smoker(1) | 0.7 |\n",
            "+-----------+-----+\n",
            "+-----------+--------------+--------------+--------------+--------------+\n",
            "| Smoker    | Smoker(0)    | Smoker(0)    | Smoker(1)    | Smoker(1)    |\n",
            "+-----------+--------------+--------------+--------------+--------------+\n",
            "| Pollution | Pollution(0) | Pollution(1) | Pollution(0) | Pollution(1) |\n",
            "+-----------+--------------+--------------+--------------+--------------+\n",
            "| Cancer(0) | 0.03         | 0.05         | 0.001        | 0.02         |\n",
            "+-----------+--------------+--------------+--------------+--------------+\n",
            "| Cancer(1) | 0.97         | 0.95         | 0.999        | 0.98         |\n",
            "+-----------+--------------+--------------+--------------+--------------+\n",
            "+---------+-----------+-----------+\n",
            "| Cancer  | Cancer(0) | Cancer(1) |\n",
            "+---------+-----------+-----------+\n",
            "| Xray(0) | 0.9       | 0.2       |\n",
            "+---------+-----------+-----------+\n",
            "| Xray(1) | 0.1       | 0.8       |\n",
            "+---------+-----------+-----------+\n",
            "+-------------+-----------+-----------+\n",
            "| Cancer      | Cancer(0) | Cancer(1) |\n",
            "+-------------+-----------+-----------+\n",
            "| Dyspnoea(0) | 0.65      | 0.3       |\n",
            "+-------------+-----------+-----------+\n",
            "| Dyspnoea(1) | 0.35      | 0.7       |\n",
            "+-------------+-----------+-----------+\n"
          ],
          "name": "stdout"
        }
      ]
    },
    {
      "cell_type": "code",
      "metadata": {
        "colab": {
          "base_uri": "https://localhost:8080/"
        },
        "id": "ajBKrft5ct1K",
        "outputId": "bc545562-e0df-4cb1-d59c-fbf3754fca37"
      },
      "source": [
        "print('\\n Probablity of Cancer given smoker')\n",
        "q=cancer_infer.query(variables=['Cancer'],evidence={'Smoker':1})\n",
        "print(q)"
      ],
      "execution_count": 10,
      "outputs": [
        {
          "output_type": "stream",
          "text": [
            "Finding Elimination Order: : 100%|██████████| 3/3 [00:00<00:00, 459.08it/s]\n",
            "Eliminating: Xray: 100%|██████████| 3/3 [00:00<00:00, 207.93it/s]"
          ],
          "name": "stderr"
        },
        {
          "output_type": "stream",
          "text": [
            "\n",
            " Probablity of Cancer given smoker\n",
            "+-----------+---------------+\n",
            "| Cancer    |   phi(Cancer) |\n",
            "+===========+===============+\n",
            "| Cancer(0) |        0.0029 |\n",
            "+-----------+---------------+\n",
            "| Cancer(1) |        0.9971 |\n",
            "+-----------+---------------+\n"
          ],
          "name": "stdout"
        },
        {
          "output_type": "stream",
          "text": [
            "\n"
          ],
          "name": "stderr"
        }
      ]
    },
    {
      "cell_type": "code",
      "metadata": {
        "colab": {
          "base_uri": "https://localhost:8080/"
        },
        "id": "1GN9H3fpcxX6",
        "outputId": "623c6096-b698-4bf8-dfcc-448025a6f340"
      },
      "source": [
        "print('\\n Probablity of Cancer given smoker')\n",
        "q=cancer_infer.query(variables=['Cancer'],evidence={'Smoker':1,'Pollution':1})\n",
        "print(q)"
      ],
      "execution_count": 11,
      "outputs": [
        {
          "output_type": "stream",
          "text": [
            "Finding Elimination Order: : 100%|██████████| 2/2 [00:00<00:00, 289.28it/s]\n",
            "Eliminating: Xray: 100%|██████████| 2/2 [00:00<00:00, 324.46it/s]"
          ],
          "name": "stderr"
        },
        {
          "output_type": "stream",
          "text": [
            "\n",
            " Probablity of Cancer given smoker\n",
            "+-----------+---------------+\n",
            "| Cancer    |   phi(Cancer) |\n",
            "+===========+===============+\n",
            "| Cancer(0) |        0.0200 |\n",
            "+-----------+---------------+\n",
            "| Cancer(1) |        0.9800 |\n",
            "+-----------+---------------+\n"
          ],
          "name": "stdout"
        },
        {
          "output_type": "stream",
          "text": [
            "\n"
          ],
          "name": "stderr"
        }
      ]
    }
  ]
}