{
  "nbformat": 4,
  "nbformat_minor": 0,
  "metadata": {
    "colab": {
      "name": "Lab5-(2).ipynb",
      "provenance": []
    },
    "kernelspec": {
      "name": "python3",
      "display_name": "Python 3"
    },
    "language_info": {
      "name": "python"
    }
  },
  "cells": [
    {
      "cell_type": "code",
      "metadata": {
        "colab": {
          "base_uri": "https://localhost:8080/"
        },
        "id": "ZKPDrNZ3xRZA",
        "outputId": "7f4405b2-051f-4906-df1d-6ac57db7cd17"
      },
      "source": [
        "!pip install bayespy"
      ],
      "execution_count": 1,
      "outputs": [
        {
          "output_type": "stream",
          "text": [
            "Collecting bayespy\n",
            "\u001b[?25l  Downloading https://files.pythonhosted.org/packages/84/8b/0fd9136cb49faf11606a52abf5e2598586f264c18e91fa559af35790ad24/bayespy-0.5.22.tar.gz (490kB)\n",
            "\u001b[K     |████████████████████████████████| 491kB 5.7MB/s \n",
            "\u001b[?25hRequirement already satisfied: numpy>=1.10.0 in /usr/local/lib/python3.7/dist-packages (from bayespy) (1.19.5)\n",
            "Requirement already satisfied: scipy>=0.13.0 in /usr/local/lib/python3.7/dist-packages (from bayespy) (1.4.1)\n",
            "Requirement already satisfied: h5py in /usr/local/lib/python3.7/dist-packages (from bayespy) (2.10.0)\n",
            "Requirement already satisfied: six in /usr/local/lib/python3.7/dist-packages (from h5py->bayespy) (1.15.0)\n",
            "Building wheels for collected packages: bayespy\n",
            "  Building wheel for bayespy (setup.py) ... \u001b[?25l\u001b[?25hdone\n",
            "  Created wheel for bayespy: filename=bayespy-0.5.22-cp37-none-any.whl size=379429 sha256=b877c7f67afd0ecea2001cfcdee557f0b304b263bfbf8bea5f4b230b632e3fe1\n",
            "  Stored in directory: /root/.cache/pip/wheels/e8/32/77/9d0787cae2c5483aafada817a65e84cb086d52079ab9692be7\n",
            "Successfully built bayespy\n",
            "Installing collected packages: bayespy\n",
            "Successfully installed bayespy-0.5.22\n"
          ],
          "name": "stdout"
        }
      ]
    },
    {
      "cell_type": "code",
      "metadata": {
        "colab": {
          "base_uri": "https://localhost:8080/"
        },
        "id": "bHMykp4xxryT",
        "outputId": "e9c06a40-8838-4075-9982-ccace3096077"
      },
      "source": [
        "from google.colab import drive\n",
        "drive.mount(\"/content/drive\")"
      ],
      "execution_count": 2,
      "outputs": [
        {
          "output_type": "stream",
          "text": [
            "Mounted at /content/drive\n"
          ],
          "name": "stdout"
        }
      ]
    },
    {
      "cell_type": "code",
      "metadata": {
        "colab": {
          "base_uri": "https://localhost:8080/"
        },
        "id": "21fctWalx4Mz",
        "outputId": "21502464-5747-401c-d2af-3f64cb3be2a4"
      },
      "source": [
        "import bayespy as bp\n",
        "import numpy as np\n",
        "import csv\n",
        "!pip3 install colorama\n",
        "!pip3 install colorama\n",
        "from colorama import init\n",
        "from colorama import Fore, Back, Style\n",
        "init()\n",
        "\n",
        "# Define Parameter Enum values\n",
        "# Age\n",
        "ageEnum = {'SuperSeniorCitizen': 0, 'SeniorCitizen': 1,\n",
        "           'MiddleAged': 2, 'Youth': 3, 'Teen': 4}\n",
        "# Gender\n",
        "genderEnum = {'Male': 0, 'Female': 1}\n",
        "# FamilyHistory\n",
        "familyHistoryEnum = {'Yes': 0, 'No': 1}\n",
        "# Diet(Calorie Intake)\n",
        "dietEnum = {'High': 0, 'Medium': 1, 'Low': 2}\n",
        "# LifeStyle\n",
        "lifeStyleEnum = {'Athlete': 0, 'Active': 1, 'Moderate': 2, 'Sedetary': 3}\n",
        "# Cholesterol\n",
        "cholesterolEnum = {'High': 0, 'BorderLine': 1, 'Normal': 2}\n",
        "# HeartDisease\n",
        "heartDiseaseEnum = {'Yes': 0, 'No': 1}"
      ],
      "execution_count": 3,
      "outputs": [
        {
          "output_type": "stream",
          "text": [
            "Collecting colorama\n",
            "  Downloading https://files.pythonhosted.org/packages/44/98/5b86278fbbf250d239ae0ecb724f8572af1c91f4a11edf4d36a206189440/colorama-0.4.4-py2.py3-none-any.whl\n",
            "Installing collected packages: colorama\n",
            "Successfully installed colorama-0.4.4\n",
            "Requirement already satisfied: colorama in /usr/local/lib/python3.7/dist-packages (0.4.4)\n"
          ],
          "name": "stdout"
        }
      ]
    },
    {
      "cell_type": "code",
      "metadata": {
        "id": "Eewlb24Px8qZ"
      },
      "source": [
        "import pandas as pd"
      ],
      "execution_count": 4,
      "outputs": []
    },
    {
      "cell_type": "code",
      "metadata": {
        "id": "_CCDtLcVyAAM"
      },
      "source": [
        "data = pd.read_csv(\"/content/drive/MyDrive/heart_disease_data.csv\")\n"
      ],
      "execution_count": 6,
      "outputs": []
    },
    {
      "cell_type": "code",
      "metadata": {
        "id": "HabtV6vJyAJG"
      },
      "source": [
        "data =np.array(data, dtype='int8')\n",
        "N = len(data)"
      ],
      "execution_count": 7,
      "outputs": []
    },
    {
      "cell_type": "code",
      "metadata": {
        "id": "98G0C9lVyPz9"
      },
      "source": [
        "# Input data column assignment\n",
        "p_age = bp.nodes.Dirichlet(1.0*np.ones(5))\n",
        "age = bp.nodes.Categorical(p_age, plates=(N,))\n",
        "age.observe(data[:, 0])\n",
        "\n",
        "p_gender = bp.nodes.Dirichlet(1.0*np.ones(2))\n",
        "gender = bp.nodes.Categorical(p_gender, plates=(N,))\n",
        "gender.observe(data[:, 1])\n",
        "\n",
        "p_familyhistory = bp.nodes.Dirichlet(1.0*np.ones(2))\n",
        "familyhistory = bp.nodes.Categorical(p_familyhistory, plates=(N,))\n",
        "familyhistory.observe(data[:, 2])\n",
        "\n",
        "p_diet = bp.nodes.Dirichlet(1.0*np.ones(3))\n",
        "diet = bp.nodes.Categorical(p_diet, plates=(N,))\n",
        "diet.observe(data[:, 3])\n",
        "\n",
        "p_lifestyle = bp.nodes.Dirichlet(1.0*np.ones(4))\n",
        "lifestyle = bp.nodes.Categorical(p_lifestyle, plates=(N,))\n",
        "lifestyle.observe(data[:, 4])\n",
        "\n",
        "p_cholesterol = bp.nodes.Dirichlet(1.0*np.ones(3))\n",
        "cholesterol = bp.nodes.Categorical(p_cholesterol, plates=(N,))\n",
        "cholesterol.observe(data[:, 5])"
      ],
      "execution_count": 8,
      "outputs": []
    },
    {
      "cell_type": "code",
      "metadata": {
        "id": "ygtxYzCryToy"
      },
      "source": [
        "# Prepare nodes and establish edges\n",
        "# np.ones(2) -> HeartDisease has 2 options Yes/No\n",
        "# plates(5, 2, 2, 3, 4, 3) -> corresponds to options present for domain values\n",
        "p_heartdisease = bp.nodes.Dirichlet(np.ones(2), plates=(5, 2, 2, 3, 4, 3))\n",
        "heartdisease = bp.nodes.MultiMixture(\n",
        "    [age, gender, familyhistory, diet, lifestyle, cholesterol], bp.nodes.Categorical, p_heartdisease)\n",
        "heartdisease.observe(data[:, 6])\n",
        "p_heartdisease.update()"
      ],
      "execution_count": 9,
      "outputs": []
    },
    {
      "cell_type": "code",
      "metadata": {
        "colab": {
          "base_uri": "https://localhost:8080/"
        },
        "id": "1XD_I9NZyWf2",
        "outputId": "b57079ce-b607-45f4-915c-64ee0f84f681"
      },
      "source": [
        "#print(\"Sample Probability\")\n",
        "#print(\"Probability(HeartDisease|Age=SuperSeniorCitizen, Gender=Female, FamilyHistory=Yes, DietIntake=Medium, LifeStyle=Sedetary, Cholesterol=High)\") \n",
        "#print(bp.nodes.MultiMixture([ageEnum['SuperSeniorCitizen'], genderEnum['Female'], familyHistoryEnum['Yes'], dietEnum['Medium'], lifeStyleEnum['Sedetary'], cholesterolEnum['High']], bp.nodes.Categorical, p_heartdisease).get_moments()[0] [heartDiseaseEnum['Yes']])\n",
        "\n",
        "# Interactive Test\n",
        "m = 0\n",
        "while m == 0:\n",
        "    print(\"\\n\")\n",
        "    res = bp.nodes.MultiMixture([int(input('Enter Age: ' + str(ageEnum))), int(input('Enter Gender: ' + str(genderEnum))), int(input('Enter FamilyHistory: ' + str(familyHistoryEnum))), int(input('Enter dietEnum: ' + str(\n",
        "        dietEnum))), int(input('Enter LifeStyle: ' + str(lifeStyleEnum))), int(input('Enter Cholesterol: ' + str(cholesterolEnum)))], bp.nodes.Categorical, p_heartdisease).get_moments()[0][heartDiseaseEnum['Yes']]\n",
        "    print(\"Probability(HeartDisease) = \" + str(res))\n",
        "\n",
        "# print(Style.RESET_ALL)\n",
        "    m = int(input(\"Enter for Continue:0, Exit :1 \"))"
      ],
      "execution_count": 10,
      "outputs": [
        {
          "output_type": "stream",
          "text": [
            "\n",
            "\n",
            "Enter Age: {'SuperSeniorCitizen': 0, 'SeniorCitizen': 1, 'MiddleAged': 2, 'Youth': 3, 'Teen': 4}0\n",
            "Enter Gender: {'Male': 0, 'Female': 1}1\n",
            "Enter FamilyHistory: {'Yes': 0, 'No': 1}0\n",
            "Enter dietEnum: {'High': 0, 'Medium': 1, 'Low': 2}2\n",
            "Enter LifeStyle: {'Athlete': 0, 'Active': 1, 'Moderate': 2, 'Sedetary': 3}0\n",
            "Enter Cholesterol: {'High': 0, 'BorderLine': 1, 'Normal': 2}2\n",
            "Probability(HeartDisease) = 0.5\n",
            "Enter for Continue:0, Exit :1 1\n"
          ],
          "name": "stdout"
        }
      ]
    }
  ]
}