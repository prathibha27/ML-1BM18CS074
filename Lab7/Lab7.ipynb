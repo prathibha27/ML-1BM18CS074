{
  "nbformat": 4,
  "nbformat_minor": 0,
  "metadata": {
    "colab": {
      "name": "Lab7.ipynb",
      "provenance": []
    },
    "kernelspec": {
      "name": "python3",
      "display_name": "Python 3"
    },
    "language_info": {
      "name": "python"
    }
  },
  "cells": [
    {
      "cell_type": "code",
      "metadata": {
        "id": "r3QQsbB2CbV3"
      },
      "source": [
        "from sklearn.cluster import KMeans\n",
        "from sklearn.mixture import GaussianMixture\n",
        "import sklearn.metrics as metrics\n",
        "import pandas as pd\n",
        "import numpy as np\n",
        "import matplotlib.pyplot as plt"
      ],
      "execution_count": 1,
      "outputs": []
    },
    {
      "cell_type": "code",
      "metadata": {
        "id": "wOhrnB1xHsmH"
      },
      "source": [
        "names = ['Sepal_Length','Sepal_Width','Petal_Length','Petal_Width', 'Class']\n",
        "\n",
        "dataset = pd.read_csv(\"8-dataset.csv\", names=names)\n"
      ],
      "execution_count": 3,
      "outputs": []
    },
    {
      "cell_type": "code",
      "metadata": {
        "id": "fekUGHSGH6aL"
      },
      "source": [
        "X = dataset.iloc[:, :-1]  \n",
        "\n",
        "label = {'Iris-setosa': 0,'Iris-versicolor': 1, 'Iris-virginica': 2} \n",
        "\n",
        "y = [label[c] for c in dataset.iloc[:, -1]]"
      ],
      "execution_count": 4,
      "outputs": []
    },
    {
      "cell_type": "code",
      "metadata": {
        "colab": {
          "base_uri": "https://localhost:8080/"
        },
        "id": "wCCm311-IAIq",
        "outputId": "ba1c5e77-50ba-4389-a92b-08a8bad31273"
      },
      "source": [
        "#Kmeans Algorithm\n",
        "model=KMeans(n_clusters=3, random_state=0).fit(X)\n",
        "\n",
        "print('The accuracy score of K-Mean: ',metrics.accuracy_score(y, model.labels_))\n",
        "print('The Confusion matrixof K-Mean:\\n',metrics.confusion_matrix(y, model.labels_))"
      ],
      "execution_count": 5,
      "outputs": [
        {
          "output_type": "stream",
          "text": [
            "The accuracy score of K-Mean:  0.09333333333333334\n",
            "The Confusion matrixof K-Mean:\n",
            " [[ 0 50  0]\n",
            " [ 2  0 48]\n",
            " [36  0 14]]\n"
          ],
          "name": "stdout"
        }
      ]
    },
    {
      "cell_type": "code",
      "metadata": {
        "colab": {
          "base_uri": "https://localhost:8080/"
        },
        "id": "jFp16MfTIJrh",
        "outputId": "b223efd0-6b31-457d-c699-8ba3a8712780"
      },
      "source": [
        "#EM Algorithm\n",
        "gmm=GaussianMixture(n_components=3, random_state=0).fit(X)\n",
        "y_cluster_gmm=gmm.predict(X)\n",
        "\n",
        "print('The accuracy score of EM: ',metrics.accuracy_score(y, y_cluster_gmm))\n",
        "print('The Confusion matrix of EM:\\n ',metrics.confusion_matrix(y, y_cluster_gmm))"
      ],
      "execution_count": 6,
      "outputs": [
        {
          "output_type": "stream",
          "text": [
            "The accuracy score of EM:  0.9666666666666667\n",
            "The Confusion matrix of EM:\n",
            "  [[50  0  0]\n",
            " [ 0 45  5]\n",
            " [ 0  0 50]]\n"
          ],
          "name": "stdout"
        }
      ]
    }
  ]
}